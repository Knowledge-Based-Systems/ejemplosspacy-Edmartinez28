{
 "cells": [
  {
   "cell_type": "code",
   "execution_count": 22,
   "id": "b046ee6e",
   "metadata": {},
   "outputs": [
    {
     "name": "stdout",
     "output_type": "stream",
     "text": [
      "<mysql.connector.connection_cext.CMySQLConnection object at 0x000002C97B90F310>\n"
     ]
    }
   ],
   "source": [
    "# importo la libreria necesaria\n",
    "import mysql.connector\n",
    "  \n",
    "#Creo la conexion a la base de datos estableciendo los parametros adecuados\n",
    "dataBase = mysql.connector.connect(\n",
    "  host =\"localhost\",\n",
    "  user =\"root\",\n",
    "  passwd =\"admin\",\n",
    "  # database = \"practicum\" \n",
    ")\n",
    " \n",
    "print(dataBase)\n",
    "  \n",
    "# Disconnecting from the server\n",
    "#dataBase.close()"
   ]
  },
  {
   "cell_type": "code",
   "execution_count": 23,
   "id": "cef017eb",
   "metadata": {},
   "outputs": [],
   "source": [
    "# El cursor lo utilizo para enrutar a la base de datos \n",
    "cursorObject = dataBase.cursor()"
   ]
  },
  {
   "cell_type": "code",
   "execution_count": 7,
   "id": "fc44f647",
   "metadata": {},
   "outputs": [],
   "source": [
    "#Linea para crear una base de datos\n",
    "cursorObject.execute(\"CREATE DATABASE practicum\") # Ejecutar una sola vez"
   ]
  },
  {
   "cell_type": "code",
   "execution_count": 13,
   "id": "2467b16a",
   "metadata": {},
   "outputs": [],
   "source": [
    "# Establesco una tabla dentro de la base de datos\n",
    "# Ejecutar una sola vez\n",
    "tablapruebas = \"\"\"CREATE TABLE CUMPLEANIOS (\n",
    "nombre VARCHAR(30) NOT NULL,\n",
    "dia INT NOT NULL,\n",
    "mes VARCHAR(15) NOT NULL,\n",
    "aniosactuales INT NOT NULL\n",
    ")\"\"\"\n",
    "\n",
    "cursorObject.execute(tablapruebas)"
   ]
  },
  {
   "cell_type": "code",
   "execution_count": 14,
   "id": "60d45a67",
   "metadata": {},
   "outputs": [],
   "source": [
    "# Creamos el query para insert \n",
    "# Ejecutar una sola vez\n",
    "paraInsertar = \"\"\"INSERT INTO CUMPLEANIOS (nombre, dia, mes, aniosactuales)\\\n",
    "VALUES (%s, %s, %s, %s)\"\"\""
   ]
  },
  {
   "cell_type": "code",
   "execution_count": 15,
   "id": "d6ea9a4c",
   "metadata": {},
   "outputs": [],
   "source": [
    "# Probamos insertar una fila en la tabla cumpleaños\n",
    "valor = (\"Edgar\",28,\"julio\",18)\n",
    "\n",
    "cursorObject.execute(paraInsertar, valor)\n",
    "dataBase.commit()"
   ]
  },
  {
   "cell_type": "code",
   "execution_count": 16,
   "id": "d425b8fc",
   "metadata": {},
   "outputs": [],
   "source": [
    "# Probamos insertar varias filas a la vez en la base de datos\n",
    "datosCumpleaños = [\n",
    "    (\"Julio\",5,\"Septiembre\",19),\n",
    "    (\"Kevin\",6,\"julio\",18),\n",
    "    (\"Anita\",17,\"agosto\",23),\n",
    "    (\"Carolina\",13,\"abril\",19),\n",
    "    (\"Richard\",27,\"octubre\",20),\n",
    "    (\"Yamile\",26,\"octubre\",16)\n",
    "]\n",
    "\n",
    "cursorObject.executemany(paraInsertar, datosCumpleaños)\n",
    "dataBase.commit()"
   ]
  },
  {
   "cell_type": "code",
   "execution_count": 17,
   "id": "53787e37",
   "metadata": {},
   "outputs": [],
   "source": [
    "# Actualizamos un campo en la tabla cumpleaños \n",
    "actualizar = \"UPDATE CUMPLEANIOS SET aniosactuales = 22 WHERE nombre ='Anita'\"\n",
    "\n",
    "cursorObject.execute(actualizar)\n",
    "dataBase.commit()"
   ]
  },
  {
   "cell_type": "code",
   "execution_count": 18,
   "id": "0d6df9bf",
   "metadata": {},
   "outputs": [],
   "source": [
    "# Añadimos un campo adicional a la tabla cumpleaños\n",
    "addCampo = \"ALTER TABLE CUMPLEANIOS ADD nota VARCHAR(300) DEFAULT NULL\"\n",
    "\n",
    "cursorObject.execute(addCampo)\n",
    "dataBase.commit()"
   ]
  },
  {
   "cell_type": "code",
   "execution_count": 19,
   "id": "09d12586",
   "metadata": {},
   "outputs": [],
   "source": [
    "# Actualizamos un campo en todas las filas de una tabla \n",
    "actualizartodos = \"UPDATE CUMPLEANIOS SET nota = 'No olvidarlo'\"\n",
    "\n",
    "cursorObject.execute(actualizartodos)\n",
    "dataBase.commit()"
   ]
  },
  {
   "cell_type": "code",
   "execution_count": 24,
   "id": "2b027beb",
   "metadata": {},
   "outputs": [
    {
     "name": "stdout",
     "output_type": "stream",
     "text": [
      "('Edgar', 28, 'julio', 18, 'No olvidarlo')\n",
      "('Julio', 5, 'Septiembre', 19, 'No olvidarlo')\n",
      "('Kevin', 6, 'julio', 18, 'No olvidarlo')\n",
      "('Anita', 17, 'agosto', 22, 'No olvidarlo')\n",
      "('Carolina', 13, 'abril', 19, 'No olvidarlo')\n",
      "('Richard', 27, 'octubre', 20, 'No olvidarlo')\n",
      "('Yamile', 26, 'octubre', 16, 'No olvidarlo')\n"
     ]
    }
   ],
   "source": [
    "# Consulta de una tabla\n",
    "\n",
    "consultaTodo = \"SELECT * FROM practicum.cumpleanios\"\n",
    "\n",
    "cursorObject.execute(consultaTodo)\n",
    "\n",
    "resultadoUno = cursorObject.fetchall()\n",
    "\n",
    "for x in resultadoUno:\n",
    "    print(x)"
   ]
  },
  {
   "cell_type": "code",
   "execution_count": 25,
   "id": "7dd8a8d2",
   "metadata": {},
   "outputs": [
    {
     "name": "stdout",
     "output_type": "stream",
     "text": [
      "('Edgar', 28, 'julio', 18, 'No olvidarlo')\n",
      "('Kevin', 6, 'julio', 18, 'No olvidarlo')\n"
     ]
    }
   ],
   "source": [
    "# Consulta selectiva de una tabla\n",
    "consultaSelectiva = \"\"\"SELECT * FROM practicum.cumpleanios\n",
    "WHERE (aniosactuales < 20) AND (mes = 'julio')\"\"\"\n",
    "\n",
    "cursorObject.execute(consultaSelectiva)\n",
    "\n",
    "resultadoDos =  cursorObject.fetchall()\n",
    "\n",
    "for x in resultadoDos:\n",
    "    print(x)"
   ]
  },
  {
   "cell_type": "code",
   "execution_count": 26,
   "id": "c5317989",
   "metadata": {},
   "outputs": [
    {
     "name": "stdout",
     "output_type": "stream",
     "text": [
      "{'nombre': 'Edgar', 'dia': 28, 'mes': 'julio', 'aniosactuales': 18, 'nota': 'No olvidarlo'}\n",
      "{'nombre': 'Julio', 'dia': 5, 'mes': 'Septiembre', 'aniosactuales': 19, 'nota': 'No olvidarlo'}\n",
      "{'nombre': 'Kevin', 'dia': 6, 'mes': 'julio', 'aniosactuales': 18, 'nota': 'No olvidarlo'}\n",
      "{'nombre': 'Anita', 'dia': 17, 'mes': 'agosto', 'aniosactuales': 22, 'nota': 'No olvidarlo'}\n",
      "{'nombre': 'Carolina', 'dia': 13, 'mes': 'abril', 'aniosactuales': 19, 'nota': 'No olvidarlo'}\n",
      "{'nombre': 'Richard', 'dia': 27, 'mes': 'octubre', 'aniosactuales': 20, 'nota': 'No olvidarlo'}\n",
      "{'nombre': 'Yamile', 'dia': 26, 'mes': 'octubre', 'aniosactuales': 16, 'nota': 'No olvidarlo'}\n"
     ]
    }
   ],
   "source": [
    "cursorObjectDos = dataBase.cursor(dictionary=True)\n",
    "\n",
    "cursorObjectDos.execute(consultaTodo)\n",
    "\n",
    "resultadoTres = cursorObjectDos.fetchall()\n",
    "\n",
    "for x in resultadoTres:\n",
    "    print(x)"
   ]
  },
  {
   "cell_type": "code",
   "execution_count": 23,
   "id": "cc4189c0",
   "metadata": {},
   "outputs": [],
   "source": [
    "dataBase.close()"
   ]
  }
 ],
 "metadata": {
  "kernelspec": {
   "display_name": "Python 3 (ipykernel)",
   "language": "python",
   "name": "python3"
  },
  "language_info": {
   "codemirror_mode": {
    "name": "ipython",
    "version": 3
   },
   "file_extension": ".py",
   "mimetype": "text/x-python",
   "name": "python",
   "nbconvert_exporter": "python",
   "pygments_lexer": "ipython3",
   "version": "3.10.4"
  }
 },
 "nbformat": 4,
 "nbformat_minor": 5
}
