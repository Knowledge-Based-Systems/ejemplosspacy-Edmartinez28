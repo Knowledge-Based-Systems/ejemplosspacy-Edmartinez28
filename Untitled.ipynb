{
 "cells": [
  {
   "cell_type": "code",
   "execution_count": 5,
   "id": "071eb626",
   "metadata": {},
   "outputs": [],
   "source": [
    "import pandas as pd"
   ]
  },
  {
   "cell_type": "code",
   "execution_count": 6,
   "id": "35a61461",
   "metadata": {},
   "outputs": [],
   "source": [
    "data1 = pd.read_csv(\"data_total_con_codigo_001.csv\")"
   ]
  },
  {
   "cell_type": "code",
   "execution_count": 8,
   "id": "65fe54fe",
   "metadata": {},
   "outputs": [
    {
     "data": {
      "text/plain": [
       "0         De acuerdo a las gráficas elegidas, las mismas...\n",
       "1                                     Nombres de los paises\n",
       "2                                                   Ninguna\n",
       "3         Creo que hace falta dar un color a cada carrer...\n",
       "4         Unirlos en su solo gráfico, aunque cada uno es...\n",
       "                                ...                        \n",
       "101195                                                 bien\n",
       "101196                                      ten un buen dia\n",
       "101197                                                 bien\n",
       "101198                                        Buen trabajo \n",
       "101199                                         Buen trabajo\n",
       "Name: feedback, Length: 101200, dtype: object"
      ]
     },
     "execution_count": 8,
     "metadata": {},
     "output_type": "execute_result"
    }
   ],
   "source": [
    "data1.feedback"
   ]
  },
  {
   "cell_type": "code",
   "execution_count": 12,
   "id": "f27418d5",
   "metadata": {},
   "outputs": [
    {
     "data": {
      "text/plain": [
       "'Unirlos en su solo gráfico, aunque cada uno esta muy bien desarrollado '"
      ]
     },
     "execution_count": 12,
     "metadata": {},
     "output_type": "execute_result"
    }
   ],
   "source": [
    "data1.feedback.get(4)"
   ]
  },
  {
   "cell_type": "code",
   "execution_count": 1,
   "id": "1a652c96",
   "metadata": {},
   "outputs": [],
   "source": [
    "import spacy"
   ]
  },
  {
   "cell_type": "code",
   "execution_count": 2,
   "id": "ef522f52",
   "metadata": {},
   "outputs": [
    {
     "data": {
      "text/plain": [
       "Esto es una frase de ejemplo"
      ]
     },
     "execution_count": 2,
     "metadata": {},
     "output_type": "execute_result"
    }
   ],
   "source": [
    "nlp = spacy.load(\"es_core_news_sm\")\n",
    "\n",
    "doc = nlp(\"Esto es una frase de ejemplo\")\n",
    "doc"
   ]
  },
  {
   "cell_type": "code",
   "execution_count": 3,
   "id": "82d1596b",
   "metadata": {},
   "outputs": [
    {
     "data": {
      "text/plain": [
       "spacy.tokens.doc.Doc"
      ]
     },
     "execution_count": 3,
     "metadata": {},
     "output_type": "execute_result"
    }
   ],
   "source": [
    "type(doc)"
   ]
  },
  {
   "cell_type": "code",
   "execution_count": 4,
   "id": "b9bc607d",
   "metadata": {},
   "outputs": [
    {
     "data": {
      "text/plain": [
       "spacy.tokens.span.Span"
      ]
     },
     "execution_count": 4,
     "metadata": {},
     "output_type": "execute_result"
    }
   ],
   "source": [
    "type(doc[2:4])"
   ]
  },
  {
   "cell_type": "code",
   "execution_count": 5,
   "id": "75c2f8be",
   "metadata": {},
   "outputs": [
    {
     "data": {
      "text/plain": [
       "spacy.tokens.token.Token"
      ]
     },
     "execution_count": 5,
     "metadata": {},
     "output_type": "execute_result"
    }
   ],
   "source": [
    "type(doc[0])"
   ]
  },
  {
   "cell_type": "code",
   "execution_count": 7,
   "id": "5706e4f3",
   "metadata": {},
   "outputs": [
    {
     "data": {
      "text/plain": [
       "frase"
      ]
     },
     "execution_count": 7,
     "metadata": {},
     "output_type": "execute_result"
    }
   ],
   "source": [
    "doc[3]"
   ]
  },
  {
   "cell_type": "code",
   "execution_count": 11,
   "id": "0f921125",
   "metadata": {},
   "outputs": [],
   "source": [
    "token = doc[0]"
   ]
  },
  {
   "cell_type": "code",
   "execution_count": 12,
   "id": "061a8c14",
   "metadata": {},
   "outputs": [
    {
     "data": {
      "text/plain": [
       "'nominal subject'"
      ]
     },
     "execution_count": 12,
     "metadata": {},
     "output_type": "execute_result"
    }
   ],
   "source": [
    "spacy.explain(token.dep_)"
   ]
  },
  {
   "cell_type": "code",
   "execution_count": null,
   "id": "d7ccb3bb",
   "metadata": {},
   "outputs": [],
   "source": []
  }
 ],
 "metadata": {
  "kernelspec": {
   "display_name": "Python 3 (ipykernel)",
   "language": "python",
   "name": "python3"
  },
  "language_info": {
   "codemirror_mode": {
    "name": "ipython",
    "version": 3
   },
   "file_extension": ".py",
   "mimetype": "text/x-python",
   "name": "python",
   "nbconvert_exporter": "python",
   "pygments_lexer": "ipython3",
   "version": "3.10.4"
  }
 },
 "nbformat": 4,
 "nbformat_minor": 5
}
